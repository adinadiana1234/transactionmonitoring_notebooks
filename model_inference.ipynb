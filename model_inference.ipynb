{
 "cells": [
  {
   "cell_type": "markdown",
   "id": "7fdcfe0e",
   "metadata": {},
   "source": [
    "Install required libraries"
   ]
  },
  {
   "cell_type": "code",
   "execution_count": null,
   "id": "5d1826f6",
   "metadata": {},
   "outputs": [],
   "source": [
    "# Install required libraries\n",
    "!pip install torch torch-geometric matplotlib scikit-learn\n"
   ]
  },
  {
   "cell_type": "markdown",
   "id": "6dace06b",
   "metadata": {},
   "source": [
    "Loads a pre-trained GraphSAGE model to perform transaction classification and detect fraudulent transactions."
   ]
  },
  {
   "cell_type": "code",
   "execution_count": null,
   "id": "d71e2782-0d2d-4ac4-928e-65894000423a",
   "metadata": {},
   "outputs": [],
   "source": [
    "import torch\n",
    "from torch_geometric.nn import SAGEConv\n",
    "from torch_geometric.data import Data\n",
    "\n",
    "# Step 1: Recreate the GraphSAGE model architecture\n",
    "class GraphSAGEModel(torch.nn.Module):\n",
    "    def __init__(self, in_channels, hidden_channels, num_layers, out_channels):\n",
    "        super(GraphSAGEModel, self).__init__()\n",
    "        self.convs = torch.nn.ModuleList()\n",
    "        self.convs.append(SAGEConv(in_channels, hidden_channels))\n",
    "        for _ in range(num_layers - 2):\n",
    "            self.convs.append(SAGEConv(hidden_channels, hidden_channels))\n",
    "        self.convs.append(SAGEConv(hidden_channels, out_channels))\n",
    "\n",
    "    def forward(self, x, edge_index):\n",
    "        for conv in self.convs[:-1]:\n",
    "            x = torch.relu(conv(x, edge_index))\n",
    "        x = self.convs[-1](x, edge_index)  # No activation on the final layer\n",
    "        return x\n",
    "\n",
    "# Step 2: Instantiate the model using the same parameters from your job creation step\n",
    "model = GraphSAGEModel(in_channels=165, hidden_channels=256, num_layers=3, out_channels=2)\n",
    "\n",
    "# Step 3: Load the state dictionary from the 'model' key in the checkpoint\n",
    "model_path = '/tmp/nvflare/gnn/finance_fl_workspace/simulate_job/app_server/FL_global_model.pt'\n",
    "checkpoint = torch.load(model_path, weights_only=True)\n",
    "\n",
    "\n",
    "# Extract the model's state_dict from the checkpoint\n",
    "state_dict = checkpoint['model']\n",
    "\n",
    "# Load the state dictionary into the model\n",
    "model.load_state_dict(state_dict)\n",
    "\n",
    "# Step 4: Set the model to evaluation mode for inference\n",
    "model.eval()\n",
    "\n",
    "# Step 5: Prepare some dummy transaction data\n",
    "node_features = torch.rand((5, 165))  # 5 transactions, each with 165 features\n",
    "\n",
    "edge_index = torch.tensor([[0, 1, 2, 3],  # From nodes (transactions)\n",
    "                           [1, 0, 3, 2]], dtype=torch.long)  # To nodes (transactions)\n",
    "\n",
    "# Create a PyTorch Geometric Data object\n",
    "new_transaction_data = Data(x=node_features, edge_index=edge_index)\n",
    "\n",
    "# Step 6: Run inference\n",
    "with torch.no_grad():  # Disable gradients for inference\n",
    "    prediction = model(new_transaction_data.x, new_transaction_data.edge_index)\n",
    "\n",
    "# Step 7: Interpret the results\n",
    "is_fraudulent = prediction.argmax(dim=1)  # Get the class with the highest score (fraud or not)\n",
    "print(\"Prediction scores:\", prediction)\n",
    "print(\"Fraudulent transactions:\", is_fraudulent)\n"
   ]
  },
  {
   "cell_type": "code",
   "execution_count": null,
   "id": "f0625480-5f7c-4595-bbfb-e0ebedac0486",
   "metadata": {},
   "outputs": [],
   "source": []
  }
 ],
 "metadata": {
  "kernelspec": {
   "display_name": "Python 3 (ipykernel)",
   "language": "python",
   "name": "python3"
  },
  "language_info": {
   "codemirror_mode": {
    "name": "ipython",
    "version": 3
   },
   "file_extension": ".py",
   "mimetype": "text/x-python",
   "name": "python",
   "nbconvert_exporter": "python",
   "pygments_lexer": "ipython3",
   "version": "3.11.6"
  }
 },
 "nbformat": 4,
 "nbformat_minor": 5
}
